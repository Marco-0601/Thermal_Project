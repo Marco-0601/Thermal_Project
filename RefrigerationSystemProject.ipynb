{
 "cells": [
  {
   "cell_type": "markdown",
   "id": "4754daba-1f40-45ff-9ac0-48219a8fa9d0",
   "metadata": {},
   "source": [
    "# Cascade Refrigeration System Project\n",
    "\n",
    "Date: 7 Dec 2024\n",
    "\n",
    "- Name: Ma, Xianlong\n",
    "- Email: marco050601@berkeley.edu"
   ]
  },
  {
   "cell_type": "markdown",
   "id": "27b7727a-c449-4357-af13-ac2e7af7e7d0",
   "metadata": {},
   "source": [
    "\n",
    "## Summary and Problem Statement\n",
    "\n",
    "Due to the high global warming potential of synthetic refrigerants, many of them are going to be outlawed. Therefore, there is a shift to using natural refrigerants such as carbon dioxide and ammonia. One common industrial freezer system is a CO2-ammonia cascade system. Here, the CO2 operates on the cold side and ammonia on the hot side. The freezer must operate at -20 C. \n",
    "\n",
    "If installing this system in the East bay, what will be the optimum temperatures for CO2 in the condenser and ammonia in the evaporator? Also propose an industrial application along with its cooling capacity."
   ]
  },
  {
   "cell_type": "markdown",
   "id": "0e484ac0-1941-44f8-8d9f-e2d8c28e8acc",
   "metadata": {},
   "source": [
    "-------\n",
    "\n",
    "## Background information\n",
    "\n",
    "A cascade refrigeration system is a two-stage system used to achieve very low temperatures that cannot be practically or efficiently reached by a single refrigeration cycle. It operates using two or more separate refrigeration cycles, each employing a different refrigerant suited to its specific temperature range and distribute the workload across two cycles. These cycles are thermally connected through a cascade heat exchanger where heat is transferred between the high-temperature and low-temperature cycles.\n",
    "\n",
    "#### Cascade Refrigeration Systems: These are used for applications requiring very low temperatures (e.g., industrial freezers). In a cascade system:\n",
    "- **Cycle:** The low-temperature cycle uses CO2 as the refrigerant, operating below -20°C.\n",
    "The high-temperature cycle uses ammonia, which rejects heat to the environment at higher temperatures.\n",
    "\n",
    "#### Refrigerants:\n",
    "- **CO2:** High volumetric cooling capacity, environmentally friendly, operates efficiently at low temperatures.\n",
    "- **Ammonia:** High energy efficiency, zero global warming potential (GWP), commonly used in industrial systems.\n",
    "- Natural refrigerants like CO2 and ammonia have low or zero global warming potential (GWP) and ozone depletion potential (ODP), making cascade systems environmentally sustainable.\n",
    "\n",
    "#### Operating Conditions:\n",
    "- **Freezer temperature:** -20°C (evaporator temperature of the CO2​ cycle).\n",
    "- **Ambient temperature:** Typical East Bay temperatures range from 10°C to 25°C, influencing the condenser temperature for ammonia."
   ]
  },
  {
   "cell_type": "markdown",
   "id": "84a3a063-9b44-4abe-bc2f-9d4d5aa1a293",
   "metadata": {},
   "source": [
    "-------\n",
    "\n",
    "## Modeling the Thermodynamic Process\n",
    "\n"
   ]
  },
  {
   "cell_type": "code",
   "execution_count": 1,
   "id": "ca63d327-cac4-41ac-ab9a-a2da302926f4",
   "metadata": {},
   "outputs": [
    {
     "name": "stdout",
     "output_type": "stream",
     "text": [
      "Requirement already satisfied: sympy in /srv/conda/lib/python3.11/site-packages (1.8)\n",
      "Requirement already satisfied: mpmath>=0.19 in /srv/conda/lib/python3.11/site-packages (from sympy) (1.3.0)\n",
      "Requirement already satisfied: CoolProp in /srv/conda/lib/python3.11/site-packages (6.6.0)\n"
     ]
    }
   ],
   "source": [
    "import numpy as np\n",
    "import matplotlib.pyplot as plt\n",
    "from scipy.interpolate import interp1d\n",
    "!pip3 install sympy\n",
    "import sympy as sp\n",
    "!pip3 install CoolProp\n",
    "from CoolProp.CoolProp import PropsSI"
   ]
  },
  {
   "cell_type": "markdown",
   "id": "ff4f1ad2-f6ab-4e69-9c22-bdff39dcee3c",
   "metadata": {},
   "source": [
    "## Low-Temperature Cycle (CO2 Cycle)\n",
    "\n",
    "**1-2 Isentropic Compression:** CO2 in vapor form is compressed to a higher pressure, increasing its temperature. The compression process prepares the refrigerant for heat rejection in the cascade heat exchanger.\n",
    "\n",
    "**2-3 Isobaric Heat Rejection:** The high-pressure, high-temperature CO2 vapor enters the cascade heat exchanger, where it releases heat to the ammonia refrigerant from the high-temperature cycle. This step cools the CO2 refrigerant and condenses it into a high-pressure liquid.\n",
    "\n",
    "**3-4 Isenthalpic Expansion:** The high-pressure CO2 liquid passes through an expansion valve, where its pressure and temperature drop significantly. This prepares the refrigerant for absorbing heat in the evaporator.\n",
    "\n",
    "**4-1 Isobaric Heat Absorption:** The low-pressure, low-temperature CO2 refrigerant absorbs heat from the freezer space or product being cooled. This is the primary cooling effect of the low-temperature cycle."
   ]
  },
  {
   "cell_type": "markdown",
   "id": "5807cdb6-dab8-41d8-82b5-8e05abfaa6b7",
   "metadata": {},
   "source": [
    "Here are the properties for cycle B, CO2 cycle:\n",
    "Note assuming:\n",
    "- P6=P7 is the condensation pressure of ammonia in the condenser.\n",
    "- It corresponds to the saturation pressure of ammonia at the condenser temperature $$\\text{T}_\\text{condensation}$$\n",
    "  $$\\text{T}_\\text{condensation} =  \\text{T}_\\text{ambient} + \\text{T}_\\text{approach}$$\n",
    "\n"
   ]
  },
  {
   "cell_type": "code",
   "execution_count": 2,
   "id": "efd89a6c-e179-4ce7-ace4-6c1854c7420b",
   "metadata": {},
   "outputs": [
    {
     "name": "stdout",
     "output_type": "stream",
     "text": [
      "283.15\n"
     ]
    }
   ],
   "source": [
    "# values that are given in the problem\n",
    "\n",
    "fluidA = 'Ammonia'\n",
    "fluidB = 'CarbonDioxide'\n",
    "\n",
    "T1 = -20+273.15 # Freezer operating at -20C\n",
    "T3 = 273.15-12#[i+273.15 for i in range(-10,11)]    #range of T_intermediate/Temp. heat exchanger to look for best COP\n",
    "T5 = T3\n",
    "\n",
    "T_ambient = 20 + 273.15  # Ambient temperature in Kelvin of average East Bay Day\n",
    "T_approach = -10  # Approach temperature\n",
    "T_condensation = T_ambient + T_approach  # Condenser temperature in Kelvin\n",
    "\n",
    "# Saturation pressure of ammonia at T_condensation\n",
    "T7 = T_condensation\n",
    "print(T7)"
   ]
  },
  {
   "cell_type": "code",
   "execution_count": 3,
   "id": "8f24d2ed-c054-45dd-bf1f-0d7ee18b4b47",
   "metadata": {},
   "outputs": [
    {
     "name": "stdout",
     "output_type": "stream",
     "text": [
      "Pressure of frezzer is: 1969628.00, which is within the normal range\n",
      "253.14999999999998\n"
     ]
    }
   ],
   "source": [
    "# state 1\n",
    "Q1 = 1 # quality\n",
    "h1 = PropsSI('H','T',T1,'Q',Q1,fluidB)\n",
    "s1 = PropsSI('S','T',T1,'Q',Q1,fluidB)\n",
    "P1 = PropsSI('P','T',T1,'Q',Q1,fluidB)\n",
    "print('Pressure of frezzer is: {0:1.2f}, which is within the normal range'.format(P1))\n",
    "print(T1)"
   ]
  },
  {
   "cell_type": "code",
   "execution_count": 4,
   "id": "ed6ed2c4-6848-4f8a-9b29-ea67104553fa",
   "metadata": {},
   "outputs": [
    {
     "name": "stdout",
     "output_type": "stream",
     "text": [
      "2500952.2835903815\n",
      "261.15\n"
     ]
    }
   ],
   "source": [
    "# state 3\n",
    "Q3 = 0\n",
    "h3 = PropsSI('H','T',T3,'Q',Q3,fluidB)\n",
    "s3 = PropsSI('S','T',T3,'Q',Q3,fluidB)\n",
    "P3 = PropsSI('P','T',T3,'Q',Q3,fluidB)\n",
    "print(P3)\n",
    "print(T3)"
   ]
  },
  {
   "cell_type": "code",
   "execution_count": 5,
   "id": "b80387be-a819-47d7-9aed-88f494fdbda2",
   "metadata": {},
   "outputs": [
    {
     "name": "stdout",
     "output_type": "stream",
     "text": [
      "2500952.2835903815\n",
      "268.83536975765173\n"
     ]
    }
   ],
   "source": [
    "# state 2\n",
    "s2 = s1 # isentropic compressor\n",
    "P2 = P3 # isobaric\n",
    "h2 = PropsSI('H','P',P2,'S',s2,fluidB)\n",
    "s2 = PropsSI('S','P',P2,'S',s2,fluidB)\n",
    "T2 = PropsSI('T','P',P2,'S',s2,fluidB)\n",
    "print(P2)\n",
    "print(T2)"
   ]
  },
  {
   "cell_type": "code",
   "execution_count": 6,
   "id": "44d191ab-e3f5-470d-ae80-5bdae6c5bf15",
   "metadata": {},
   "outputs": [
    {
     "name": "stdout",
     "output_type": "stream",
     "text": [
      "1969628.0019025588\n",
      "253.15000000000822\n"
     ]
    }
   ],
   "source": [
    "# state 4\n",
    "P4 = P1 # isobaric\n",
    "h4 = h3 # isenthalpic\n",
    "s4 = PropsSI('S','P',P4,'H',h4,fluidB)\n",
    "T4 = PropsSI('T','P',P4,'H',h4,fluidB)\n",
    "Q4 = PropsSI('Q','P',P4,'H',h4,fluidB)\n",
    "print(P4)\n",
    "print(T4)"
   ]
  },
  {
   "cell_type": "markdown",
   "id": "9284e93e-d5ca-457f-9ce1-ff34376550c2",
   "metadata": {},
   "source": [
    "## High-Temperature Cycle (Ammonia Cycle)\n",
    "\n",
    "**5-6 Isentropic Compression:** Ammonia in vapor form is compressed to a higher pressure, increasing its temperature. The compression process prepares the refrigerant for heat rejection in the condenser.\n",
    "\n",
    "**6-7 Isobaric Heat Rejection:** The high-pressure, high-temperature ammonia vapor releases heat to the environment (e.g., air or water) in the condenser. This step condenses the refrigerant into a high-pressure liquid.\n",
    "\n",
    "**7-8 Isenthalpic Expansion:**  The high-pressure ammonia liquid passes through an expansion valve, where its pressure and temperature drop significantly. This prepares the refrigerant for heat absorption in the cascade heat exchanger.\n",
    "\n",
    "**8-5 Isobaric Heat Absorption:** The low-pressure, low-temperature ammonia refrigerant absorbs heat from the CO2 refrigerant in the cascade heat exchanger. This step ensures the ammonia cycle removes the heat from the low-temperature CO2 cycle and maintains the intermediate temperature."
   ]
  },
  {
   "cell_type": "markdown",
   "id": "d4004d5a-aee8-4a3b-908c-4f9e486693ff",
   "metadata": {},
   "source": [
    "Here are the properties for cycle A, Ammonia cycle:"
   ]
  },
  {
   "cell_type": "code",
   "execution_count": 7,
   "id": "d34ab7ab-ddaf-4ab0-a118-4349a16d2cdb",
   "metadata": {},
   "outputs": [
    {
     "name": "stdout",
     "output_type": "stream",
     "text": [
      "267747.80001646694\n",
      "261.15\n"
     ]
    }
   ],
   "source": [
    "# state 5\n",
    "Q5 = 1 # saturated vapor \n",
    "h5 = PropsSI('H','T',T5,'Q',Q5,fluidA)\n",
    "s5 = PropsSI('S','T',T5,'Q',Q5,fluidA)\n",
    "P5 = PropsSI('P','T',T5,'Q',Q5,fluidA)\n",
    "print(P5)\n",
    "print(T5)"
   ]
  },
  {
   "cell_type": "code",
   "execution_count": 8,
   "id": "e7904dc3-66c1-4792-a258-32e8213f0366",
   "metadata": {},
   "outputs": [
    {
     "name": "stdout",
     "output_type": "stream",
     "text": [
      "614790.2086291318\n",
      "283.15\n"
     ]
    }
   ],
   "source": [
    "# state 7\n",
    "Q7 = 0 # vapor quality at the exit of the condenser is 0\n",
    "h7 = PropsSI('H','T',T7,'Q',Q7,fluidA)\n",
    "s7 = PropsSI('S','T',T7,'Q',Q7,fluidA)\n",
    "P7 = PropsSI('P','T',T7,'Q',Q7,fluidA)\n",
    "print(P7)\n",
    "print(T7)"
   ]
  },
  {
   "cell_type": "code",
   "execution_count": 9,
   "id": "3c910251-8c56-47a8-a9cc-1860b98719fb",
   "metadata": {},
   "outputs": [
    {
     "name": "stdout",
     "output_type": "stream",
     "text": [
      "614790.2086291318\n",
      "316.0326977750857\n"
     ]
    }
   ],
   "source": [
    "# state 6\n",
    "s6 = s5 # compressor operates isentropically \n",
    "P6 = P7 #Isobaric condensation\n",
    "T6 = PropsSI('T','P',P6,'S',s6,fluidA)\n",
    "h6 = PropsSI('H','P',P6,'S',s6,fluidA)\n",
    "s6 = PropsSI('S','P',P6,'S',s6,fluidA)\n",
    "print(P6)\n",
    "print(T6)"
   ]
  },
  {
   "cell_type": "code",
   "execution_count": 10,
   "id": "e8c95b0b-5f31-4a5d-bd63-c8868e9f54d9",
   "metadata": {},
   "outputs": [
    {
     "name": "stdout",
     "output_type": "stream",
     "text": [
      "267747.80001646694\n",
      "261.1499999999947\n"
     ]
    }
   ],
   "source": [
    "# state 8\n",
    "h8 = h7 # isenthalpic process going from state 7 to 8\n",
    "P8 = P5 # isobaric process going from state 8 to state 5\n",
    "s8 = PropsSI('S','P',P8,'H',h8,fluidA)\n",
    "T8 = PropsSI('T','P',P8,'H',h8,fluidA)\n",
    "Q8 = PropsSI('Q','P',P8,'H',h8,fluidA)\n",
    "print(P8)\n",
    "print(T8)"
   ]
  },
  {
   "cell_type": "markdown",
   "id": "801f06b8-0656-47ad-a717-3a09eeacf7a4",
   "metadata": {},
   "source": [
    "#### Calculating Work based on Different Intermediate Temperatures of the Heat Exchanger\n",
    "\n",
    "Let's assume $$\\implies \\dot{m}_\\text{amm} = 0.05 kg/s$$"
   ]
  },
  {
   "cell_type": "code",
   "execution_count": 11,
   "id": "83524db4-3dfb-497a-9194-e81a405fc477",
   "metadata": {},
   "outputs": [],
   "source": [
    "mdotAmm_kgPerS = 0.05"
   ]
  },
  {
   "cell_type": "markdown",
   "id": "8384c28d-9206-4dcb-9832-b59575aac73a",
   "metadata": {},
   "source": [
    "Lets calculate the Qin for ammonia cycle, Win of ammonia cycle, and Qout from ammonia cycle to environment."
   ]
  },
  {
   "cell_type": "code",
   "execution_count": 12,
   "id": "429a43a4-ec2c-41b5-9e37-a6b996949bac",
   "metadata": {},
   "outputs": [
    {
     "name": "stdout",
     "output_type": "stream",
     "text": [
      "The rate of heat removal into ammonia cycle is 60065.60 W.\n",
      "The power input to the compressor in ammonia cycle is 5537.86 W.\n",
      "The heat rejected from ammonia cycle to the environment is 65603.46 W.\n"
     ]
    }
   ],
   "source": [
    "Qamm_in = mdotAmm_kgPerS*(h5 - h8)\n",
    "print('The rate of heat removal into ammonia cycle is {0:1.2f} W.'.format(Qamm_in))\n",
    "\n",
    "Wamm_in = mdotAmm_kgPerS*(h6 - h5)\n",
    "print('The power input to the compressor in ammonia cycle is {0:1.2f} W.'.format(Wamm_in))\n",
    "\n",
    "Qamm_out = mdotAmm_kgPerS*(h6 - h7)\n",
    "print('The heat rejected from ammonia cycle to the environment is {0:1.2f} W.'.format(Qamm_out))"
   ]
  },
  {
   "cell_type": "markdown",
   "id": "3c8b2c05-1387-4013-b6a9-ff248829baf5",
   "metadata": {},
   "source": [
    "Due to energy balance, we know that the heat out of the CO2 cycle must equal to the heat in of the ammonia cycle. This leads to $$\\dot{Q}_\\text{amm,in} =  \\dot{Q}_\\text{CO2,out}$$"
   ]
  },
  {
   "cell_type": "code",
   "execution_count": 13,
   "id": "b8ff2be2-c951-444c-8a47-a1d49a70e34e",
   "metadata": {},
   "outputs": [],
   "source": [
    "QCO2_out = -Qamm_in"
   ]
  },
  {
   "cell_type": "markdown",
   "id": "328e0337-9cc5-4c1f-8bd8-be58f47cff06",
   "metadata": {},
   "source": [
    "Since we know that $$\\dot{Q}_\\text{CO2,out} = \\dot{m} \\left( h_3 - h_2 \\right) $$\n",
    "\n",
    "$$\\implies  \\dot{m}_\\text{CO2} = \\frac{\\dot{Q}_\\text{CO2,out}}{\\left( h_3 - h_2 \\right)}$$"
   ]
  },
  {
   "cell_type": "code",
   "execution_count": 14,
   "id": "68d20de4-9e16-4bd7-ae06-08a07ba489d3",
   "metadata": {},
   "outputs": [
    {
     "name": "stdout",
     "output_type": "stream",
     "text": [
      "The mass flow rate in CO2 cycle is 0.219 kg/s.\n"
     ]
    }
   ],
   "source": [
    "mdotCO2_kgPerS = QCO2_out/(h3 - h2)\n",
    "print('The mass flow rate in CO2 cycle is {0:1.3f} kg/s.'.format(mdotCO2_kgPerS))"
   ]
  },
  {
   "cell_type": "markdown",
   "id": "0a1b8b14-a3c9-4c3e-bb50-584b53c47da1",
   "metadata": {},
   "source": [
    "Now lets calculate the Qin of CO2 cycle, or heat removed from freezer, and also the Win total by finding WCO2_in and adding it to Wamm_in.\n",
    "$$\\dot{W}_\\text{in} = \\dot{m}_\\text{amm}\\left(h_6 - h_6 \\right) + \\dot{m}_\\text{CO2}\\left(h_2 - h_1\\right)$$."
   ]
  },
  {
   "cell_type": "code",
   "execution_count": 15,
   "id": "21e9998f-d0c3-4210-8b73-ae0b378daa81",
   "metadata": {},
   "outputs": [
    {
     "name": "stdout",
     "output_type": "stream",
     "text": [
      "The rate of heat removal from states 4 to 1 is 58020.669 W.\n",
      "The total power input to the compressors is 7582.788 W.\n"
     ]
    }
   ],
   "source": [
    "QCO2_in = mdotCO2_kgPerS *(h1 - h4)\n",
    "print('The rate of heat removal from states 4 to 1 is {0:1.3f} W.'.format(QCO2_in))\n",
    "\n",
    "WCO2_in = mdotCO2_kgPerS * (h2 - h1)\n",
    "WdotIn_W = Wamm_in + WCO2_in\n",
    "print('The total power input to the compressors is {0:1.3f} W.'.format(WdotIn_W))"
   ]
  },
  {
   "cell_type": "markdown",
   "id": "0c8299eb-380d-4ac2-9137-59a64a39da6f",
   "metadata": {},
   "source": [
    "The coefficient of performance of any refrigeration system is the ratio of the rate that heat is removed from the refrigated space divided by the net power input:\n",
    "\n",
    "$$\\text{COP}_\\text{R} = \\frac{\\dot{Q}_\\text{CO2,out}}{\\dot{W}_\\text{in}} $$\n"
   ]
  },
  {
   "cell_type": "code",
   "execution_count": 16,
   "id": "2cd592da-a10c-4919-b5c0-d6a4f2e609e7",
   "metadata": {},
   "outputs": [
    {
     "name": "stdout",
     "output_type": "stream",
     "text": [
      "The COP of the cascade refrigeration cycle is 7.652.\n"
     ]
    }
   ],
   "source": [
    "COP_R = QCO2_in/WdotIn_W\n",
    "print('The COP of the cascade refrigeration cycle is {0:1.3f}.'.format(COP_R))"
   ]
  },
  {
   "cell_type": "markdown",
   "id": "8be74408-5203-4d80-a3b5-a05b8ed80298",
   "metadata": {},
   "source": [
    "Now Iterate this process for different intermediate temperature (T3) to find the highest COP_R possible. Testing a range of (-15,5)C for because that is the normal range for commerical cascade refrigeration system. Here is a table of the tested T_intermediate values with their COPs. \n",
    "\n",
    "We also test -20 and 10 to make sure the trend of COP is stable.\n"
   ]
  },
  {
   "cell_type": "markdown",
   "id": "2c4eaa7e-469d-4d24-8e6f-bbf78657043e",
   "metadata": {},
   "source": [
    "| T_intermediate       | COP       |\n",
    "|----------------|----------------|\n",
    "| -20   | 7.454   |\n",
    "| -15   | 7.624   |\n",
    "| -14   | 7.64   |\n",
    "| -13   | 7.649   |\n",
    "| <mark>-12</mark>   | <mark>7.652</mark>   |\n",
    "| -11   | 7.648   |\n",
    "| -10   | 7.637   |\n",
    "| -9   | 7.619   |\n",
    "| -8   | 7.595   |\n",
    "| -7  | 7.564  |\n",
    "| -6  | 7.526  |\n",
    "| -5  | 7.482  |\n",
    "| -4  | 7.431  |\n",
    "| -3  | 7.374  |\n",
    "| -2  | 7.31  |\n",
    "| -1  | 7.241  |\n",
    "| 0  | 7.165  |\n",
    "| 1  | 7.084  |\n",
    "| 2  | 6.997  |\n",
    "| 3  | 6.905  |\n",
    "| 4  | 6.808  |\n",
    "| 5  | 6.706  |\n",
    "| 10  | 6.132  |"
   ]
  },
  {
   "cell_type": "markdown",
   "id": "605caa03-138a-41c6-8ee0-ca436adbcaaf",
   "metadata": {},
   "source": [
    "We find that around -12 degree Celcius is the optimal temperature for CO2 in the condenser and ammonia in the evaporator installing this system in the East bay (T_ambient ~20C)."
   ]
  },
  {
   "cell_type": "markdown",
   "id": "20f81f7c-ad20-4ff0-945b-9904837f2d64",
   "metadata": {},
   "source": [
    "-----\n",
    "\n",
    "## Improving the performance\n",
    "\n",
    "One way to improve the performance is to replace the expansion valves that is used for the isenthaplic expansion from states 3 to 4 and 7 to 8 with turbines (isentropic expansion)\n",
    "that can convert some of the energy lost in the expansion process into useful work. This means we have to recalculate state 4 and 8 and also the rest of the W and Q."
   ]
  },
  {
   "cell_type": "code",
   "execution_count": 17,
   "id": "89506042-dc82-422d-be9c-98349ac2d5a8",
   "metadata": {},
   "outputs": [
    {
     "name": "stdout",
     "output_type": "stream",
     "text": [
      "1969628.0019025588\n",
      "253.15000000000822\n",
      "267747.80001646694\n",
      "261.1499999999947\n"
     ]
    }
   ],
   "source": [
    "# new state 4\n",
    "P4 = P1 # isobaric\n",
    "s4 = s3 # isentropic\n",
    "h4 = PropsSI('H','P',P4,'S',s4,fluidB)\n",
    "T4 = PropsSI('T','P',P4,'S',s4,fluidB)\n",
    "Q4 = PropsSI('Q','P',P4,'S',s4,fluidB)\n",
    "print(P4)\n",
    "print(T4)\n",
    "\n",
    "# state 8\n",
    "s8 = s7 # isentriouc process going from state 7 to 8\n",
    "P8 = P5 # isobaric process going from state 8 to state 5\n",
    "h8 = PropsSI('H','P',P8,'S',s8,fluidA)\n",
    "T8 = PropsSI('T','P',P8,'S',s8,fluidA)\n",
    "Q8 = PropsSI('Q','P',P8,'S',s8,fluidA)\n",
    "print(P8)\n",
    "print(T8)"
   ]
  },
  {
   "cell_type": "markdown",
   "id": "0ea845bf-3fa3-4622-9aec-3d1a7847a440",
   "metadata": {},
   "source": [
    "Now calculate everything to get new COP. Work outputed from the turbine will offset compressor work directly by mechanical coupling."
   ]
  },
  {
   "cell_type": "code",
   "execution_count": 18,
   "id": "3ad2d101-3212-4edf-b312-04431e2f6104",
   "metadata": {},
   "outputs": [
    {
     "name": "stdout",
     "output_type": "stream",
     "text": [
      "The rate of heat removal from states 4 to 1 is 58416.040 W.\n",
      "The total power output from the CO2 cycle turbine is 173.753 W.\n",
      "The total power output from the Ammonia cycle turbine is 229.430 W.\n",
      "The total power input to the compressors is 7187.416 W.\n",
      "The COP of the cascade refrigeration cycle is 8.128.\n"
     ]
    }
   ],
   "source": [
    "mdotAmm_kgPerS = 0.05\n",
    "\n",
    "Qamm_in = mdotAmm_kgPerS * (h5 - h8)\n",
    "#print('The rate of heat removal into ammonia cycle is {0:1.2f} W.'.format(Qamm_in))\n",
    "\n",
    "Wamm_in = mdotAmm_kgPerS * (h6 - h5)\n",
    "#print('The power input to the compressor in ammonia cycle is {0:1.2f} W.'.format(Wamm_in))\n",
    "\n",
    "Qamm_out = mdotAmm_kgPerS * (h6 - h7)\n",
    "#print('The heat rejected from ammonia cycle to the environment is {0:1.2f} W.'.format(Qamm_out))\n",
    "\n",
    "QCO2_out = -Qamm_in\n",
    "\n",
    "mdotCO2_kgPerS = QCO2_out/(h3 - h2)\n",
    "#print('The mass flow rate in CO2 cycle is {0:1.3f} kg/s.'.format(mdotCO2_kgPerS))\n",
    "\n",
    "QCO2_in = mdotCO2_kgPerS * (h1 - h4)\n",
    "print('The rate of heat removal from states 4 to 1 is {0:1.3f} W.'.format(QCO2_in))\n",
    "\n",
    "WCO2_in = mdotCO2_kgPerS * (h2 - h1)\n",
    "\n",
    "WCO2_out = mdotCO2_kgPerS * (h3 - h4)\n",
    "WAMM_out = mdotAmm_kgPerS * (h7 - h8)\n",
    "print('The total power output from the CO2 cycle turbine is {0:1.3f} W.'.format(WCO2_out))\n",
    "print('The total power output from the Ammonia cycle turbine is {0:1.3f} W.'.format(WAMM_out))\n",
    "\n",
    "WdotIn_W = Wamm_in + WCO2_in - WCO2_out - WAMM_out\n",
    "print('The total power input to the compressors is {0:1.3f} W.'.format(WdotIn_W))\n",
    "\n",
    "COP_R = QCO2_in/WdotIn_W\n",
    "print('The COP of the cascade refrigeration cycle is {0:1.3f}.'.format(COP_R))"
   ]
  },
  {
   "cell_type": "markdown",
   "id": "b42c55a9-e746-457c-b6ec-646fc8f07d41",
   "metadata": {},
   "source": [
    "----\n",
    "\n",
    "## Conclusions\n",
    "\n",
    "We can see that the turbine outputs around 200 W of work each which is fed back into the compressors. This decreases the total power input to the compressor needed and increase the COP from 7.652 to 8.128 for T=-12C. We can also see that the cooling capacity of the system is at around 58kW. A  cooling load of 58 kW is typically enough to:\n",
    "- Freeze or chill approximately 10-15 tons of food per day (depending on the food type and freezing requirements).\n",
    "- Maintain a small-to-medium-sized industrial freezer room at -20C.\n",
    "- Operate a small-to-medium cryogenic system for specialized applications.\n",
    "- Cooling for small-to-medium-sized data centers where heat dissipation is critical for server performance and reliability."
   ]
  }
 ],
 "metadata": {
  "kernelspec": {
   "display_name": "Python 3 (ipykernel)",
   "language": "python",
   "name": "python3"
  },
  "language_info": {
   "codemirror_mode": {
    "name": "ipython",
    "version": 3
   },
   "file_extension": ".py",
   "mimetype": "text/x-python",
   "name": "python",
   "nbconvert_exporter": "python",
   "pygments_lexer": "ipython3",
   "version": "3.11.11"
  }
 },
 "nbformat": 4,
 "nbformat_minor": 5
}
